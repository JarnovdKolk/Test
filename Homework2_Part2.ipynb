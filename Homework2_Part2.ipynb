{
  "cells": [
    {
      "cell_type": "markdown",
      "metadata": {
        "id": "view-in-github",
        "colab_type": "text"
      },
      "source": [
        "<a href=\"https://colab.research.google.com/github/JarnovdKolk/Test/blob/main/Homework2_Part2.ipynb\" target=\"_parent\"><img src=\"https://colab.research.google.com/assets/colab-badge.svg\" alt=\"Open In Colab\"/></a>"
      ]
    },
    {
      "cell_type": "markdown",
      "metadata": {
        "id": "UaHtY3j1z3v5"
      },
      "source": [
        "# Problem 2, Parts C-E: Neural Network\n",
        "\n",
        "In this Jupyter notebook, we will train a neural network on the MiniBooNE dataset.\n",
        "\n",
        "Use this notebook to write your code for problem 1 parts C-E by filling in the sections marked `# TODO` and running all cells."
      ]
    },
    {
      "cell_type": "code",
      "execution_count": 1,
      "metadata": {
        "id": "VG7YeF3nz3v-"
      },
      "outputs": [],
      "source": [
        "from sklearn.datasets import fetch_openml\n",
        "from sklearn.model_selection import train_test_split\n",
        "\n",
        "data = fetch_openml(\"miniboone\", parser=\"auto\", version=1)\n",
        "X, y = data[\"data\"].values, (data[\"target\"].values == \"True\").astype(float)\n",
        "X_train, X_test, y_train, y_test = train_test_split(X, y, test_size=0.2, random_state=42, shuffle=True)"
      ]
    },
    {
      "cell_type": "code",
      "execution_count": 3,
      "metadata": {
        "colab": {
          "base_uri": "https://localhost:8080/",
          "height": 1000
        },
        "id": "W6Mo-1_oz3wB",
        "outputId": "e9b65e26-2839-48fc-8126-8371d1838aa9"
      },
      "outputs": [
        {
          "output_type": "stream",
          "name": "stdout",
          "text": [
            "Epoch 1/50\n",
            "\u001b[1m813/813\u001b[0m \u001b[32m━━━━━━━━━━━━━━━━━━━━\u001b[0m\u001b[37m\u001b[0m \u001b[1m5s\u001b[0m 5ms/step - accuracy: 0.8256 - loss: 0.3888 - val_accuracy: 0.8422 - val_loss: 0.3692\n",
            "Epoch 2/50\n",
            "\u001b[1m813/813\u001b[0m \u001b[32m━━━━━━━━━━━━━━━━━━━━\u001b[0m\u001b[37m\u001b[0m \u001b[1m4s\u001b[0m 4ms/step - accuracy: 0.8457 - loss: 0.3585 - val_accuracy: 0.8439 - val_loss: 0.3539\n",
            "Epoch 3/50\n",
            "\u001b[1m813/813\u001b[0m \u001b[32m━━━━━━━━━━━━━━━━━━━━\u001b[0m\u001b[37m\u001b[0m \u001b[1m4s\u001b[0m 4ms/step - accuracy: 0.8423 - loss: 0.3623 - val_accuracy: 0.8379 - val_loss: 0.3601\n",
            "Epoch 4/50\n",
            "\u001b[1m813/813\u001b[0m \u001b[32m━━━━━━━━━━━━━━━━━━━━\u001b[0m\u001b[37m\u001b[0m \u001b[1m7s\u001b[0m 7ms/step - accuracy: 0.8319 - loss: 0.3793 - val_accuracy: 0.7765 - val_loss: 0.4707\n",
            "Epoch 5/50\n",
            "\u001b[1m813/813\u001b[0m \u001b[32m━━━━━━━━━━━━━━━━━━━━\u001b[0m\u001b[37m\u001b[0m \u001b[1m9s\u001b[0m 5ms/step - accuracy: 0.8114 - loss: 0.4287 - val_accuracy: 0.8452 - val_loss: 0.3714\n",
            "Epoch 6/50\n",
            "\u001b[1m813/813\u001b[0m \u001b[32m━━━━━━━━━━━━━━━━━━━━\u001b[0m\u001b[37m\u001b[0m \u001b[1m5s\u001b[0m 5ms/step - accuracy: 0.8251 - loss: 0.3901 - val_accuracy: 0.8312 - val_loss: 0.3891\n",
            "Epoch 7/50\n",
            "\u001b[1m813/813\u001b[0m \u001b[32m━━━━━━━━━━━━━━━━━━━━\u001b[0m\u001b[37m\u001b[0m \u001b[1m4s\u001b[0m 4ms/step - accuracy: 0.8391 - loss: 0.3749 - val_accuracy: 0.8474 - val_loss: 0.4271\n",
            "Epoch 8/50\n",
            "\u001b[1m813/813\u001b[0m \u001b[32m━━━━━━━━━━━━━━━━━━━━\u001b[0m\u001b[37m\u001b[0m \u001b[1m6s\u001b[0m 5ms/step - accuracy: 0.8177 - loss: 0.4270 - val_accuracy: 0.7904 - val_loss: 0.4792\n",
            "Epoch 9/50\n",
            "\u001b[1m813/813\u001b[0m \u001b[32m━━━━━━━━━━━━━━━━━━━━\u001b[0m\u001b[37m\u001b[0m \u001b[1m4s\u001b[0m 4ms/step - accuracy: 0.8126 - loss: 0.4410 - val_accuracy: 0.8309 - val_loss: 0.4322\n",
            "Epoch 10/50\n",
            "\u001b[1m813/813\u001b[0m \u001b[32m━━━━━━━━━━━━━━━━━━━━\u001b[0m\u001b[37m\u001b[0m \u001b[1m5s\u001b[0m 4ms/step - accuracy: 0.8240 - loss: 0.4116 - val_accuracy: 0.8319 - val_loss: 0.3850\n",
            "Epoch 11/50\n",
            "\u001b[1m813/813\u001b[0m \u001b[32m━━━━━━━━━━━━━━━━━━━━\u001b[0m\u001b[37m\u001b[0m \u001b[1m5s\u001b[0m 6ms/step - accuracy: 0.8328 - loss: 0.3973 - val_accuracy: 0.8478 - val_loss: 0.3507\n",
            "Epoch 12/50\n",
            "\u001b[1m813/813\u001b[0m \u001b[32m━━━━━━━━━━━━━━━━━━━━\u001b[0m\u001b[37m\u001b[0m \u001b[1m4s\u001b[0m 4ms/step - accuracy: 0.8292 - loss: 0.3883 - val_accuracy: 0.8198 - val_loss: 0.3802\n",
            "Epoch 13/50\n",
            "\u001b[1m813/813\u001b[0m \u001b[32m━━━━━━━━━━━━━━━━━━━━\u001b[0m\u001b[37m\u001b[0m \u001b[1m5s\u001b[0m 5ms/step - accuracy: 0.8415 - loss: 0.3757 - val_accuracy: 0.8529 - val_loss: 0.3835\n",
            "Epoch 14/50\n",
            "\u001b[1m813/813\u001b[0m \u001b[32m━━━━━━━━━━━━━━━━━━━━\u001b[0m\u001b[37m\u001b[0m \u001b[1m5s\u001b[0m 5ms/step - accuracy: 0.8368 - loss: 0.3879 - val_accuracy: 0.8520 - val_loss: 0.3409\n",
            "Epoch 15/50\n",
            "\u001b[1m813/813\u001b[0m \u001b[32m━━━━━━━━━━━━━━━━━━━━\u001b[0m\u001b[37m\u001b[0m \u001b[1m3s\u001b[0m 4ms/step - accuracy: 0.8445 - loss: 0.3620 - val_accuracy: 0.8599 - val_loss: 0.3524\n",
            "Epoch 16/50\n",
            "\u001b[1m813/813\u001b[0m \u001b[32m━━━━━━━━━━━━━━━━━━━━\u001b[0m\u001b[37m\u001b[0m \u001b[1m7s\u001b[0m 6ms/step - accuracy: 0.8438 - loss: 0.3646 - val_accuracy: 0.8480 - val_loss: 0.3500\n",
            "Epoch 17/50\n",
            "\u001b[1m813/813\u001b[0m \u001b[32m━━━━━━━━━━━━━━━━━━━━\u001b[0m\u001b[37m\u001b[0m \u001b[1m3s\u001b[0m 4ms/step - accuracy: 0.8563 - loss: 0.3508 - val_accuracy: 0.8484 - val_loss: 0.3593\n",
            "Epoch 18/50\n",
            "\u001b[1m813/813\u001b[0m \u001b[32m━━━━━━━━━━━━━━━━━━━━\u001b[0m\u001b[37m\u001b[0m \u001b[1m5s\u001b[0m 4ms/step - accuracy: 0.8428 - loss: 0.3614 - val_accuracy: 0.8688 - val_loss: 0.3375\n",
            "Epoch 19/50\n",
            "\u001b[1m813/813\u001b[0m \u001b[32m━━━━━━━━━━━━━━━━━━━━\u001b[0m\u001b[37m\u001b[0m \u001b[1m5s\u001b[0m 6ms/step - accuracy: 0.8560 - loss: 0.3482 - val_accuracy: 0.8361 - val_loss: 0.3624\n",
            "Epoch 20/50\n",
            "\u001b[1m813/813\u001b[0m \u001b[32m━━━━━━━━━━━━━━━━━━━━\u001b[0m\u001b[37m\u001b[0m \u001b[1m4s\u001b[0m 4ms/step - accuracy: 0.8448 - loss: 0.3506 - val_accuracy: 0.8380 - val_loss: 0.3577\n",
            "Epoch 21/50\n",
            "\u001b[1m813/813\u001b[0m \u001b[32m━━━━━━━━━━━━━━━━━━━━\u001b[0m\u001b[37m\u001b[0m \u001b[1m5s\u001b[0m 4ms/step - accuracy: 0.8475 - loss: 0.3489 - val_accuracy: 0.8669 - val_loss: 0.3390\n",
            "Epoch 22/50\n",
            "\u001b[1m813/813\u001b[0m \u001b[32m━━━━━━━━━━━━━━━━━━━━\u001b[0m\u001b[37m\u001b[0m \u001b[1m5s\u001b[0m 6ms/step - accuracy: 0.8507 - loss: 0.3441 - val_accuracy: 0.8525 - val_loss: 0.3312\n",
            "Epoch 23/50\n",
            "\u001b[1m813/813\u001b[0m \u001b[32m━━━━━━━━━━━━━━━━━━━━\u001b[0m\u001b[37m\u001b[0m \u001b[1m4s\u001b[0m 5ms/step - accuracy: 0.8532 - loss: 0.3448 - val_accuracy: 0.8631 - val_loss: 0.3382\n",
            "Epoch 24/50\n",
            "\u001b[1m813/813\u001b[0m \u001b[32m━━━━━━━━━━━━━━━━━━━━\u001b[0m\u001b[37m\u001b[0m \u001b[1m6s\u001b[0m 5ms/step - accuracy: 0.8585 - loss: 0.3475 - val_accuracy: 0.8533 - val_loss: 0.3473\n",
            "Epoch 25/50\n",
            "\u001b[1m813/813\u001b[0m \u001b[32m━━━━━━━━━━━━━━━━━━━━\u001b[0m\u001b[37m\u001b[0m \u001b[1m4s\u001b[0m 4ms/step - accuracy: 0.8451 - loss: 0.3507 - val_accuracy: 0.8539 - val_loss: 0.3355\n",
            "Epoch 26/50\n",
            "\u001b[1m813/813\u001b[0m \u001b[32m━━━━━━━━━━━━━━━━━━━━\u001b[0m\u001b[37m\u001b[0m \u001b[1m5s\u001b[0m 4ms/step - accuracy: 0.8515 - loss: 0.3473 - val_accuracy: 0.8425 - val_loss: 0.3350\n",
            "Epoch 27/50\n",
            "\u001b[1m813/813\u001b[0m \u001b[32m━━━━━━━━━━━━━━━━━━━━\u001b[0m\u001b[37m\u001b[0m \u001b[1m5s\u001b[0m 6ms/step - accuracy: 0.8504 - loss: 0.3415 - val_accuracy: 0.8421 - val_loss: 0.3439\n",
            "Epoch 28/50\n",
            "\u001b[1m813/813\u001b[0m \u001b[32m━━━━━━━━━━━━━━━━━━━━\u001b[0m\u001b[37m\u001b[0m \u001b[1m4s\u001b[0m 4ms/step - accuracy: 0.8409 - loss: 0.3539 - val_accuracy: 0.8543 - val_loss: 0.3914\n",
            "Epoch 29/50\n",
            "\u001b[1m813/813\u001b[0m \u001b[32m━━━━━━━━━━━━━━━━━━━━\u001b[0m\u001b[37m\u001b[0m \u001b[1m4s\u001b[0m 4ms/step - accuracy: 0.8337 - loss: 0.3763 - val_accuracy: 0.8496 - val_loss: 0.3367\n",
            "Epoch 30/50\n",
            "\u001b[1m813/813\u001b[0m \u001b[32m━━━━━━━━━━━━━━━━━━━━\u001b[0m\u001b[37m\u001b[0m \u001b[1m5s\u001b[0m 6ms/step - accuracy: 0.8446 - loss: 0.3489 - val_accuracy: 0.8458 - val_loss: 0.3407\n",
            "Epoch 31/50\n",
            "\u001b[1m813/813\u001b[0m \u001b[32m━━━━━━━━━━━━━━━━━━━━\u001b[0m\u001b[37m\u001b[0m \u001b[1m4s\u001b[0m 4ms/step - accuracy: 0.8493 - loss: 0.3432 - val_accuracy: 0.8612 - val_loss: 0.3305\n",
            "Epoch 32/50\n",
            "\u001b[1m813/813\u001b[0m \u001b[32m━━━━━━━━━━━━━━━━━━━━\u001b[0m\u001b[37m\u001b[0m \u001b[1m5s\u001b[0m 4ms/step - accuracy: 0.8597 - loss: 0.3435 - val_accuracy: 0.8342 - val_loss: 0.4234\n",
            "Epoch 33/50\n",
            "\u001b[1m813/813\u001b[0m \u001b[32m━━━━━━━━━━━━━━━━━━━━\u001b[0m\u001b[37m\u001b[0m \u001b[1m6s\u001b[0m 5ms/step - accuracy: 0.8526 - loss: 0.3506 - val_accuracy: 0.8622 - val_loss: 0.3424\n",
            "Epoch 34/50\n",
            "\u001b[1m813/813\u001b[0m \u001b[32m━━━━━━━━━━━━━━━━━━━━\u001b[0m\u001b[37m\u001b[0m \u001b[1m4s\u001b[0m 4ms/step - accuracy: 0.8483 - loss: 0.3414 - val_accuracy: 0.8482 - val_loss: 0.3315\n",
            "Epoch 35/50\n",
            "\u001b[1m813/813\u001b[0m \u001b[32m━━━━━━━━━━━━━━━━━━━━\u001b[0m\u001b[37m\u001b[0m \u001b[1m4s\u001b[0m 4ms/step - accuracy: 0.8479 - loss: 0.3359 - val_accuracy: 0.8245 - val_loss: 0.3613\n",
            "Epoch 36/50\n",
            "\u001b[1m813/813\u001b[0m \u001b[32m━━━━━━━━━━━━━━━━━━━━\u001b[0m\u001b[37m\u001b[0m \u001b[1m5s\u001b[0m 6ms/step - accuracy: 0.8484 - loss: 0.3370 - val_accuracy: 0.8606 - val_loss: 0.3339\n",
            "Epoch 37/50\n",
            "\u001b[1m813/813\u001b[0m \u001b[32m━━━━━━━━━━━━━━━━━━━━\u001b[0m\u001b[37m\u001b[0m \u001b[1m4s\u001b[0m 4ms/step - accuracy: 0.8545 - loss: 0.3370 - val_accuracy: 0.8510 - val_loss: 0.3554\n",
            "Epoch 38/50\n",
            "\u001b[1m813/813\u001b[0m \u001b[32m━━━━━━━━━━━━━━━━━━━━\u001b[0m\u001b[37m\u001b[0m \u001b[1m3s\u001b[0m 4ms/step - accuracy: 0.8529 - loss: 0.3314 - val_accuracy: 0.8510 - val_loss: 0.3233\n",
            "Epoch 39/50\n",
            "\u001b[1m813/813\u001b[0m \u001b[32m━━━━━━━━━━━━━━━━━━━━\u001b[0m\u001b[37m\u001b[0m \u001b[1m5s\u001b[0m 6ms/step - accuracy: 0.8574 - loss: 0.3232 - val_accuracy: 0.8596 - val_loss: 0.3179\n",
            "Epoch 40/50\n",
            "\u001b[1m813/813\u001b[0m \u001b[32m━━━━━━━━━━━━━━━━━━━━\u001b[0m\u001b[37m\u001b[0m \u001b[1m4s\u001b[0m 4ms/step - accuracy: 0.8553 - loss: 0.3326 - val_accuracy: 0.8365 - val_loss: 0.3289\n",
            "Epoch 41/50\n",
            "\u001b[1m813/813\u001b[0m \u001b[32m━━━━━━━━━━━━━━━━━━━━\u001b[0m\u001b[37m\u001b[0m \u001b[1m5s\u001b[0m 4ms/step - accuracy: 0.8485 - loss: 0.3430 - val_accuracy: 0.8442 - val_loss: 0.3405\n",
            "Epoch 42/50\n",
            "\u001b[1m813/813\u001b[0m \u001b[32m━━━━━━━━━━━━━━━━━━━━\u001b[0m\u001b[37m\u001b[0m \u001b[1m5s\u001b[0m 6ms/step - accuracy: 0.8504 - loss: 0.3411 - val_accuracy: 0.8431 - val_loss: 0.3423\n",
            "Epoch 43/50\n",
            "\u001b[1m813/813\u001b[0m \u001b[32m━━━━━━━━━━━━━━━━━━━━\u001b[0m\u001b[37m\u001b[0m \u001b[1m4s\u001b[0m 4ms/step - accuracy: 0.8509 - loss: 0.3406 - val_accuracy: 0.8626 - val_loss: 0.3231\n",
            "Epoch 44/50\n",
            "\u001b[1m813/813\u001b[0m \u001b[32m━━━━━━━━━━━━━━━━━━━━\u001b[0m\u001b[37m\u001b[0m \u001b[1m3s\u001b[0m 4ms/step - accuracy: 0.8555 - loss: 0.3376 - val_accuracy: 0.8586 - val_loss: 0.3238\n",
            "Epoch 45/50\n",
            "\u001b[1m813/813\u001b[0m \u001b[32m━━━━━━━━━━━━━━━━━━━━\u001b[0m\u001b[37m\u001b[0m \u001b[1m4s\u001b[0m 5ms/step - accuracy: 0.8604 - loss: 0.3348 - val_accuracy: 0.8727 - val_loss: 0.3513\n",
            "Epoch 46/50\n",
            "\u001b[1m813/813\u001b[0m \u001b[32m━━━━━━━━━━━━━━━━━━━━\u001b[0m\u001b[37m\u001b[0m \u001b[1m4s\u001b[0m 4ms/step - accuracy: 0.8575 - loss: 0.3337 - val_accuracy: 0.8465 - val_loss: 0.3510\n",
            "Epoch 47/50\n",
            "\u001b[1m813/813\u001b[0m \u001b[32m━━━━━━━━━━━━━━━━━━━━\u001b[0m\u001b[37m\u001b[0m \u001b[1m5s\u001b[0m 5ms/step - accuracy: 0.8614 - loss: 0.3257 - val_accuracy: 0.8472 - val_loss: 0.3325\n",
            "Epoch 48/50\n",
            "\u001b[1m813/813\u001b[0m \u001b[32m━━━━━━━━━━━━━━━━━━━━\u001b[0m\u001b[37m\u001b[0m \u001b[1m5s\u001b[0m 6ms/step - accuracy: 0.8611 - loss: 0.3302 - val_accuracy: 0.8609 - val_loss: 0.3336\n",
            "Epoch 49/50\n",
            "\u001b[1m813/813\u001b[0m \u001b[32m━━━━━━━━━━━━━━━━━━━━\u001b[0m\u001b[37m\u001b[0m \u001b[1m4s\u001b[0m 4ms/step - accuracy: 0.8577 - loss: 0.3417 - val_accuracy: 0.8655 - val_loss: 0.3186\n",
            "Epoch 50/50\n",
            "\u001b[1m813/813\u001b[0m \u001b[32m━━━━━━━━━━━━━━━━━━━━\u001b[0m\u001b[37m\u001b[0m \u001b[1m4s\u001b[0m 4ms/step - accuracy: 0.8577 - loss: 0.3250 - val_accuracy: 0.8545 - val_loss: 0.3300\n",
            "\u001b[1m813/813\u001b[0m \u001b[32m━━━━━━━━━━━━━━━━━━━━\u001b[0m\u001b[37m\u001b[0m \u001b[1m1s\u001b[0m 1ms/step\n"
          ]
        },
        {
          "output_type": "error",
          "ename": "NameError",
          "evalue": "name 'plot_roc' is not defined",
          "traceback": [
            "\u001b[0;31m---------------------------------------------------------------------------\u001b[0m",
            "\u001b[0;31mNameError\u001b[0m                                 Traceback (most recent call last)",
            "\u001b[0;32m<ipython-input-3-c531b29f08cd>\u001b[0m in \u001b[0;36m<cell line: 0>\u001b[0;34m()\u001b[0m\n\u001b[1;32m     31\u001b[0m \u001b[0;31m# Predict and plot ROC\u001b[0m\u001b[0;34m\u001b[0m\u001b[0;34m\u001b[0m\u001b[0m\n\u001b[1;32m     32\u001b[0m \u001b[0mpreds_nn\u001b[0m \u001b[0;34m=\u001b[0m \u001b[0mmodel\u001b[0m\u001b[0;34m.\u001b[0m\u001b[0mpredict\u001b[0m\u001b[0;34m(\u001b[0m\u001b[0mX_test\u001b[0m\u001b[0;34m)\u001b[0m\u001b[0;34m\u001b[0m\u001b[0;34m\u001b[0m\u001b[0m\n\u001b[0;32m---> 33\u001b[0;31m \u001b[0mplot_roc\u001b[0m\u001b[0;34m(\u001b[0m\u001b[0my_test\u001b[0m\u001b[0;34m,\u001b[0m \u001b[0mpreds_nn\u001b[0m\u001b[0;34m)\u001b[0m\u001b[0;34m\u001b[0m\u001b[0;34m\u001b[0m\u001b[0m\n\u001b[0m",
            "\u001b[0;31mNameError\u001b[0m: name 'plot_roc' is not defined"
          ]
        }
      ],
      "source": [
        "from sklearn.datasets import fetch_openml\n",
        "from sklearn.model_selection import train_test_split\n",
        "from sklearn.preprocessing import StandardScaler\n",
        "import tensorflow as tf\n",
        "from tensorflow.keras.models import Model\n",
        "from tensorflow.keras.layers import Dense, Input\n",
        "from tensorflow.keras.optimizers import SGD, Adam\n",
        "\n",
        "\n",
        "# Load dataset\n",
        "data = fetch_openml(\"miniboone\", parser=\"auto\", version=1)\n",
        "X, y = data[\"data\"].values, (data[\"target\"].values == \"True\").astype(float)\n",
        "X_train, X_test, y_train, y_test = train_test_split(X, y, test_size=0.2, random_state=42, shuffle=True)\n",
        "\n",
        "# =============================\n",
        "# Problem C: Model with tanh activation and SGD optimizer\n",
        "# =============================\n",
        "inputs = Input(shape=(X_train.shape[1],))\n",
        "x = Dense(128, activation='tanh')(inputs)\n",
        "x = Dense(128, activation='tanh')(x)\n",
        "x = Dense(128, activation='tanh')(x)\n",
        "outputs = Dense(1, activation='sigmoid')(x)\n",
        "model = Model(inputs=inputs, outputs=outputs)\n",
        "\n",
        "# Compile model\n",
        "model.compile(optimizer=SGD(learning_rate=0.01), loss='binary_crossentropy', metrics=['accuracy'])\n",
        "\n",
        "# Train model\n",
        "history = model.fit(X_train, y_train, epochs=50, batch_size=128, validation_data=(X_test, y_test), verbose=1)\n",
        "\n"
      ]
    },
    {
      "cell_type": "code",
      "source": [
        "import matplotlib.pyplot as plt\n",
        "from sklearn.metrics import roc_curve, auc\n",
        "\n",
        "# Compute ROC curve and AUC\n",
        "fpr, tpr, _ = roc_curve(y_test, preds_nn)\n",
        "roc_auc = auc(fpr, tpr)\n",
        "\n",
        "# Plot ROC curve\n",
        "plt.figure(figsize=(8, 6))\n",
        "plt.plot(fpr, tpr, color=\"blue\", lw=2, label=f\"ROC curve (AUC = {roc_auc:.3f})\")\n",
        "plt.plot([0, 1], [0, 1], color=\"gray\", linestyle=\"--\")  # Diagonal reference line\n",
        "plt.xlim([0.0, 1.0])\n",
        "plt.ylim([0.0, 1.05])\n",
        "plt.xlabel(\"False Positive Rate\")\n",
        "plt.ylabel(\"True Positive Rate\")\n",
        "plt.title(\"Receiver Operating Characteristic (ROC) Curve\")\n",
        "plt.legend(loc=\"lower right\")\n",
        "plt.grid()\n",
        "plt.show()\n"
      ],
      "metadata": {
        "colab": {
          "base_uri": "https://localhost:8080/",
          "height": 564
        },
        "id": "RVCizEIu2iMU",
        "outputId": "4093edc1-f8ca-4855-9d80-785a6601d854"
      },
      "execution_count": 4,
      "outputs": [
        {
          "output_type": "display_data",
          "data": {
            "text/plain": [
              "<Figure size 800x600 with 1 Axes>"
            ],
            "image/png": "[encoded data removed]"
          },
          "metadata": {}
        }
      ]
    },
    {
      "cell_type": "code",
      "source": [
        "# =============================\n",
        "# Problem D: Model with ReLU activation and SGD optimizer\n",
        "# =============================\n",
        "inputs = Input(shape=(X_train.shape[1],))\n",
        "x = Dense(128, activation='relu')(inputs)\n",
        "x = Dense(128, activation='relu')(x)\n",
        "x = Dense(128, activation='relu')(x)\n",
        "outputs = Dense(1, activation='sigmoid')(x)\n",
        "model = Model(inputs=inputs, outputs=outputs)\n",
        "\n",
        "# Compile model\n",
        "model.compile(optimizer=SGD(learning_rate=0.01), loss='binary_crossentropy', metrics=['accuracy'])\n",
        "\n",
        "# Train model\n",
        "history = model.fit(X_train, y_train, epochs=50, batch_size=128, validation_data=(X_test, y_test), verbose=1)\n",
        "\n",
        "# Compute ROC curve and AUC\n",
        "fpr, tpr, _ = roc_curve(y_test, preds_nn)\n",
        "roc_auc = auc(fpr, tpr)\n",
        "\n",
        "# Plot ROC curve\n",
        "plt.figure(figsize=(8, 6))\n",
        "plt.plot(fpr, tpr, color=\"blue\", lw=2, label=f\"ROC curve (AUC = {roc_auc:.3f})\")\n",
        "plt.plot([0, 1], [0, 1], color=\"gray\", linestyle=\"--\")  # Diagonal reference line\n",
        "plt.xlim([0.0, 1.0])\n",
        "plt.ylim([0.0, 1.05])\n",
        "plt.xlabel(\"False Positive Rate\")\n",
        "plt.ylabel(\"True Positive Rate\")\n",
        "plt.title(\"Receiver Operating Characteristic (ROC) Curve\")\n",
        "plt.legend(loc=\"lower right\")\n",
        "plt.grid()\n",
        "plt.show()"
      ],
      "metadata": {
        "id": "m2EzH6ce2xry"
      },
      "execution_count": null,
      "outputs": []
    },
    {
      "cell_type": "code",
      "execution_count": null,
      "metadata": {
        "id": "1GFSioQ4z3wC"
      },
      "outputs": [],
      "source": [
        "from roc_helper import plot_roc\n",
        "\n",
        "plot_roc(y_test, preds_nn)"
      ]
    },
    {
      "cell_type": "code",
      "execution_count": null,
      "metadata": {
        "id": "AC3a966qz3wD"
      },
      "outputs": [],
      "source": [
        "# ==============================================\n",
        "# TODO: Implement the Keras model instance\n",
        "# as described in part D\n",
        "# ==============================================\n",
        "inputs = Input(shape=X_train.shape[1:])\n",
        "outputs = ...\n",
        "model = Model(inputs=inputs, outputs=outputs)\n",
        "\n",
        "# ==============================================\n",
        "# TODO: Compile the model with SGD and binary\n",
        "# crossentropy loss\n",
        "# ==============================================\n",
        "model.compile(...)\n",
        "\n",
        "# ==============================================\n",
        "# TODO: Fit the training data for 50 epochs\n",
        "# with a batch size of 128\n",
        "# ==============================================\n",
        "history = model.fit(...)\n",
        "\n",
        "# retreieve predictions\n",
        "preds_nn = model.predict(X_test)"
      ]
    },
    {
      "cell_type": "code",
      "execution_count": null,
      "metadata": {
        "id": "IecaVnW6z3wD"
      },
      "outputs": [],
      "source": [
        "from sklearn.preprocessing import StandardScaler\n",
        "\n",
        "# ==============================================\n",
        "# TODO: Implement the scaler as described in\n",
        "# part E\n",
        "# ==============================================\n",
        "\n",
        "# ==============================================\n",
        "# TODO: Implement the Keras model instance\n",
        "# as described in part E\n",
        "# ==============================================\n",
        "inputs = Input(shape=X_train.shape[1:])\n",
        "outputs = ...\n",
        "model = Model(inputs=inputs, outputs=outputs)\n",
        "\n",
        "# ==============================================\n",
        "# TODO: Compile the model with Adam and binary\n",
        "# crossentropy loss\n",
        "# ==============================================\n",
        "model.compile(...)\n",
        "history = model.fit(...)\n",
        "\n",
        "preds_nn = model.predict(X_test)"
      ]
    },
    {
      "cell_type": "code",
      "execution_count": null,
      "metadata": {
        "id": "GwM0XTt5z3wE"
      },
      "outputs": [],
      "source": [
        "plot_roc(y_test, preds_nn)"
      ]
    }
  ],
  "metadata": {
    "kernelspec": {
      "display_name": "phys139",
      "language": "python",
      "name": "python3"
    },
    "language_info": {
      "codemirror_mode": {
        "name": "ipython",
        "version": 3
      },
      "file_extension": ".py",
      "mimetype": "text/x-python",
      "name": "python",
      "nbconvert_exporter": "python",
      "pygments_lexer": "ipython3",
      "version": "3.9.15 | packaged by conda-forge | (main, Nov 22 2022, 08:55:37) \n[Clang 14.0.6 ]"
    },
    "orig_nbformat": 4,
    "vscode": {
      "interpreter": {
        "hash": "d0ea348b636367bcdf67fd2d6d24251712b38670f61fdee14f28eb58fe74f081"
      }
    },
    "colab": {
      "provenance": [],
      "include_colab_link": true
    }
  },
  "nbformat": 4,
  "nbformat_minor": 0
}