{
  "nbformat": 4,
  "nbformat_minor": 0,
  "metadata": {
    "colab": {
      "provenance": [],
      "authorship_tag": "ABX9TyM0KtbJECtieFLkU8rPbMpN",
      "include_colab_link": true
    },
    "kernelspec": {
      "name": "python3",
      "display_name": "Python 3"
    },
    "language_info": {
      "name": "python"
    }
  },
  "cells": [
    {
      "cell_type": "markdown",
      "metadata": {
        "id": "view-in-github",
        "colab_type": "text"
      },
      "source": [
        "<a href=\"https://colab.research.google.com/github/JarnovdKolk/Test/blob/main/Hands-on2.ipynb\" target=\"_parent\"><img src=\"https://colab.research.google.com/assets/colab-badge.svg\" alt=\"Open In Colab\"/></a>"
      ]
    },
    {
      "cell_type": "code",
      "execution_count": null,
      "metadata": {
        "id": "Ss_6BgaVWi_n"
      },
      "outputs": [],
      "source": [
        "import numpy as np\n",
        "import re\n",
        "import matplotlib.pyplot as plt\n",
        "\n",
        "import numpy as np\n",
        "import matplotlib.pyplot as plt\n",
        "from google.colab import files\n",
        "import io\n",
        "import pandas as pd\n",
        "from scipy.optimize import curve_fit\n",
        "from scipy.interpolate import interp1d\n"
      ]
    },
    {
      "cell_type": "code",
      "source": [
        "pip install xgboost --user"
      ],
      "metadata": {
        "colab": {
          "base_uri": "https://localhost:8080/"
        },
        "id": "QSThdTewWprY",
        "outputId": "1aa18112-afc6-4e57-c36d-c9028b7a8c3d"
      },
      "execution_count": null,
      "outputs": [
        {
          "output_type": "stream",
          "name": "stdout",
          "text": [
            "Requirement already satisfied: xgboost in /usr/local/lib/python3.11/dist-packages (2.1.3)\n",
            "Requirement already satisfied: numpy in /usr/local/lib/python3.11/dist-packages (from xgboost) (1.26.4)\n",
            "Requirement already satisfied: nvidia-nccl-cu12 in /usr/local/lib/python3.11/dist-packages (from xgboost) (2.21.5)\n",
            "Requirement already satisfied: scipy in /usr/local/lib/python3.11/dist-packages (from xgboost) (1.13.1)\n"
          ]
        }
      ]
    },
    {
      "cell_type": "code",
      "source": [
        "import pandas as pd\n",
        "import numpy as np\n",
        "import matplotlib.pyplot as plt\n",
        "import xgboost as xgb"
      ],
      "metadata": {
        "id": "ndce8gFSWrj0"
      },
      "execution_count": 1,
      "outputs": []
    },
    {
      "cell_type": "code",
      "source": [
        "# Create the 'data' directory if it doesn't exist\n",
        "!mkdir -p data\n",
        "\n",
        "# Download the file using wget\n",
        "!wget https://raw.githubusercontent.com/k-woodruff/bdt-tutorial/master/data/training_10k.csv -O data/training_10k.csv\n",
        "data = pd.read_csv(\"data/training_10k.csv\")"
      ],
      "metadata": {
        "id": "mDkiTaItXJ2i",
        "outputId": "70e208f5-8616-43b7-b96f-c83356462b4b",
        "colab": {
          "base_uri": "https://localhost:8080/"
        }
      },
      "execution_count": 4,
      "outputs": [
        {
          "output_type": "stream",
          "name": "stdout",
          "text": [
            "--2025-02-11 09:40:12--  https://raw.githubusercontent.com/k-woodruff/bdt-tutorial/master/data/training_10k.csv\n",
            "Resolving raw.githubusercontent.com (raw.githubusercontent.com)... 185.199.108.133, 185.199.109.133, 185.199.110.133, ...\n",
            "Connecting to raw.githubusercontent.com (raw.githubusercontent.com)|185.199.108.133|:443... connected.\n",
            "HTTP request sent, awaiting response... 200 OK\n",
            "Length: 2210243 (2.1M) [text/plain]\n",
            "Saving to: ‘data/training_10k.csv’\n",
            "\n",
            "\rdata/training_10k.c   0%[                    ]       0  --.-KB/s               \rdata/training_10k.c 100%[===================>]   2.11M  --.-KB/s    in 0.06s   \n",
            "\n",
            "2025-02-11 09:40:12 (34.3 MB/s) - ‘data/training_10k.csv’ saved [2210243/2210243]\n",
            "\n"
          ]
        }
      ]
    },
    {
      "cell_type": "code",
      "source": [
        "print(\"Size of data: {}\".format(data.shape))\n",
        "print(\"Number of events: {}\".format(data.shape[0]))\n",
        "print(\"Number of columns: {}\".format(data.shape[1]))\n",
        "\n",
        "print(\"\\nList of features in dataset:\")\n",
        "for col in data.columns:\n",
        "    print(col)"
      ],
      "metadata": {
        "id": "rxO9xG9dYX1p",
        "outputId": "3757f339-e2fa-4802-c3cc-55f011d04eaa",
        "colab": {
          "base_uri": "https://localhost:8080/"
        }
      },
      "execution_count": 6,
      "outputs": [
        {
          "output_type": "stream",
          "name": "stdout",
          "text": [
            "Size of data: (10000, 33)\n",
            "Number of events: 10000\n",
            "Number of columns: 33\n",
            "\n",
            "List of features in dataset:\n",
            "EventId\n",
            "DER_mass_MMC\n",
            "DER_mass_transverse_met_lep\n",
            "DER_mass_vis\n",
            "DER_pt_h\n",
            "DER_deltaeta_jet_jet\n",
            "DER_mass_jet_jet\n",
            "DER_prodeta_jet_jet\n",
            "DER_deltar_tau_lep\n",
            "DER_pt_tot\n",
            "DER_sum_pt\n",
            "DER_pt_ratio_lep_tau\n",
            "DER_met_phi_centrality\n",
            "DER_lep_eta_centrality\n",
            "PRI_tau_pt\n",
            "PRI_tau_eta\n",
            "PRI_tau_phi\n",
            "PRI_lep_pt\n",
            "PRI_lep_eta\n",
            "PRI_lep_phi\n",
            "PRI_met\n",
            "PRI_met_phi\n",
            "PRI_met_sumet\n",
            "PRI_jet_num\n",
            "PRI_jet_leading_pt\n",
            "PRI_jet_leading_eta\n",
            "PRI_jet_leading_phi\n",
            "PRI_jet_subleading_pt\n",
            "PRI_jet_subleading_eta\n",
            "PRI_jet_subleading_phi\n",
            "PRI_jet_all_pt\n",
            "Weight\n",
            "Label\n"
          ]
        }
      ]
    }
  ]
}